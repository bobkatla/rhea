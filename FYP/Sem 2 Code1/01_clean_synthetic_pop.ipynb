{
 "cells": [
  {
   "cell_type": "code",
   "execution_count": 1,
   "metadata": {},
   "outputs": [],
   "source": [
    "import numpy as np \n",
    "import matplotlib.pyplot as plt\n",
    "import pandas as pd \n",
    "from sklearn.preprocessing import QuantileTransformer\n",
    "from sklearn.preprocessing import OneHotEncoder\n",
    "from scipy.stats.mstats import winsorize\n",
    "import geopandas as gpd"
   ]
  },
  {
   "cell_type": "code",
   "execution_count": 2,
   "metadata": {},
   "outputs": [],
   "source": [
    "df = pd.read_csv(\"Data\\synthetic_2021_HH.csv\")"
   ]
  },
  {
   "cell_type": "code",
   "execution_count": 12,
   "metadata": {},
   "outputs": [
    {
     "data": {
      "text/html": [
       "<div>\n",
       "<style scoped>\n",
       "    .dataframe tbody tr th:only-of-type {\n",
       "        vertical-align: middle;\n",
       "    }\n",
       "\n",
       "    .dataframe tbody tr th {\n",
       "        vertical-align: top;\n",
       "    }\n",
       "\n",
       "    .dataframe thead th {\n",
       "        text-align: right;\n",
       "    }\n",
       "</style>\n",
       "<table border=\"1\" class=\"dataframe\">\n",
       "  <thead>\n",
       "    <tr style=\"text-align: right;\">\n",
       "      <th></th>\n",
       "      <th>totalvehs</th>\n",
       "      <th>hhsize</th>\n",
       "      <th>dwelltype</th>\n",
       "      <th>owndwell</th>\n",
       "      <th>hhinc</th>\n",
       "      <th>SA1</th>\n",
       "    </tr>\n",
       "  </thead>\n",
       "  <tbody>\n",
       "    <tr>\n",
       "      <th>0</th>\n",
       "      <td>2.0</td>\n",
       "      <td>6.0</td>\n",
       "      <td>Separate House</td>\n",
       "      <td>Being Purchased</td>\n",
       "      <td>3625.0</td>\n",
       "      <td>20301103401</td>\n",
       "    </tr>\n",
       "    <tr>\n",
       "      <th>1</th>\n",
       "      <td>1.0</td>\n",
       "      <td>7.0</td>\n",
       "      <td>Separate House</td>\n",
       "      <td>Being Purchased</td>\n",
       "      <td>1825.0</td>\n",
       "      <td>20301103401</td>\n",
       "    </tr>\n",
       "    <tr>\n",
       "      <th>2</th>\n",
       "      <td>2.0</td>\n",
       "      <td>7.0</td>\n",
       "      <td>Terrace/Townhouse</td>\n",
       "      <td>Being Purchased</td>\n",
       "      <td>1375.0</td>\n",
       "      <td>20301103401</td>\n",
       "    </tr>\n",
       "    <tr>\n",
       "      <th>3</th>\n",
       "      <td>2.0</td>\n",
       "      <td>7.0</td>\n",
       "      <td>Separate House</td>\n",
       "      <td>Being Purchased</td>\n",
       "      <td>100.0</td>\n",
       "      <td>20301103401</td>\n",
       "    </tr>\n",
       "    <tr>\n",
       "      <th>4</th>\n",
       "      <td>3.0</td>\n",
       "      <td>7.0</td>\n",
       "      <td>Separate House</td>\n",
       "      <td>Being Purchased</td>\n",
       "      <td>900.0</td>\n",
       "      <td>20301103401</td>\n",
       "    </tr>\n",
       "    <tr>\n",
       "      <th>...</th>\n",
       "      <td>...</td>\n",
       "      <td>...</td>\n",
       "      <td>...</td>\n",
       "      <td>...</td>\n",
       "      <td>...</td>\n",
       "      <td>...</td>\n",
       "    </tr>\n",
       "    <tr>\n",
       "      <th>1902678</th>\n",
       "      <td>0.0</td>\n",
       "      <td>1.0</td>\n",
       "      <td>Flat or Apartment</td>\n",
       "      <td>Being Purchased</td>\n",
       "      <td>1750.0</td>\n",
       "      <td>21402159223</td>\n",
       "    </tr>\n",
       "    <tr>\n",
       "      <th>1902680</th>\n",
       "      <td>2.0</td>\n",
       "      <td>1.0</td>\n",
       "      <td>Separate House</td>\n",
       "      <td>Fully Owned</td>\n",
       "      <td>3200.0</td>\n",
       "      <td>21402159223</td>\n",
       "    </tr>\n",
       "    <tr>\n",
       "      <th>1902681</th>\n",
       "      <td>1.0</td>\n",
       "      <td>1.0</td>\n",
       "      <td>Separate House</td>\n",
       "      <td>Being Purchased</td>\n",
       "      <td>2800.0</td>\n",
       "      <td>21402159223</td>\n",
       "    </tr>\n",
       "    <tr>\n",
       "      <th>1902682</th>\n",
       "      <td>0.0</td>\n",
       "      <td>1.0</td>\n",
       "      <td>Flat or Apartment</td>\n",
       "      <td>Being Rented</td>\n",
       "      <td>3000.0</td>\n",
       "      <td>21402159223</td>\n",
       "    </tr>\n",
       "    <tr>\n",
       "      <th>1902683</th>\n",
       "      <td>1.0</td>\n",
       "      <td>1.0</td>\n",
       "      <td>Separate House</td>\n",
       "      <td>Fully Owned</td>\n",
       "      <td>700.0</td>\n",
       "      <td>21402159223</td>\n",
       "    </tr>\n",
       "  </tbody>\n",
       "</table>\n",
       "<p>1796954 rows × 6 columns</p>\n",
       "</div>"
      ],
      "text/plain": [
       "         totalvehs  hhsize          dwelltype         owndwell   hhinc  \\\n",
       "0              2.0     6.0     Separate House  Being Purchased  3625.0   \n",
       "1              1.0     7.0     Separate House  Being Purchased  1825.0   \n",
       "2              2.0     7.0  Terrace/Townhouse  Being Purchased  1375.0   \n",
       "3              2.0     7.0     Separate House  Being Purchased   100.0   \n",
       "4              3.0     7.0     Separate House  Being Purchased   900.0   \n",
       "...            ...     ...                ...              ...     ...   \n",
       "1902678        0.0     1.0  Flat or Apartment  Being Purchased  1750.0   \n",
       "1902680        2.0     1.0     Separate House      Fully Owned  3200.0   \n",
       "1902681        1.0     1.0     Separate House  Being Purchased  2800.0   \n",
       "1902682        0.0     1.0  Flat or Apartment     Being Rented  3000.0   \n",
       "1902683        1.0     1.0     Separate House      Fully Owned   700.0   \n",
       "\n",
       "                 SA1  \n",
       "0        20301103401  \n",
       "1        20301103401  \n",
       "2        20301103401  \n",
       "3        20301103401  \n",
       "4        20301103401  \n",
       "...              ...  \n",
       "1902678  21402159223  \n",
       "1902680  21402159223  \n",
       "1902681  21402159223  \n",
       "1902682  21402159223  \n",
       "1902683  21402159223  \n",
       "\n",
       "[1796954 rows x 6 columns]"
      ]
     },
     "execution_count": 12,
     "metadata": {},
     "output_type": "execute_result"
    }
   ],
   "source": [
    "df = df[~((df[\"dwelltype\"] == \"Other\") | (df[\"dwelltype\"] == \"Missing\"))]\n",
    "df = df[df[\"owndwell\"] != \"Something Else\"]\n",
    "df"
   ]
  },
  {
   "cell_type": "markdown",
   "metadata": {},
   "source": [
    "## Winsorizing Data"
   ]
  },
  {
   "cell_type": "code",
   "execution_count": 10,
   "metadata": {},
   "outputs": [],
   "source": [
    "# Redistributing bottom and top 1% to reduce effect of outliers\n",
    "df_winsorize = df.copy()\n",
    "df_winsorize['HHSIZE'] = winsorize(df['hhsize'], limits=[0.01, 0.01])\n",
    "df_winsorize['TOTALVEHS'] = winsorize(df['totalvehs'], limits=[0.01, 0.01])\n",
    "df_winsorize['INC'] = winsorize(df['hhinc'], limits=[0.01, 0.01])"
   ]
  },
  {
   "cell_type": "markdown",
   "metadata": {},
   "source": [
    "## Normalise Data"
   ]
  },
  {
   "cell_type": "code",
   "execution_count": 6,
   "metadata": {},
   "outputs": [],
   "source": [
    "df_normalise= df_winsorize.copy()\n",
    "cols = ['HHSIZE', 'TOTALVEHS']\n",
    "for col in cols:\n",
    "    df_normalise[f'{col}_normalised'] = (df_normalise[col] - df_normalise[col].min()) / (df_normalise[col].max() - df_normalise[col].min())\n",
    "    qt = QuantileTransformer(output_distribution='uniform')\n",
    "\n",
    "df_normalise['INC_normalised'] = qt.fit_transform(df_normalise[['INC']])"
   ]
  },
  {
   "cell_type": "markdown",
   "metadata": {},
   "source": [
    "## One Hot Encoding"
   ]
  },
  {
   "cell_type": "code",
   "execution_count": 7,
   "metadata": {},
   "outputs": [],
   "source": [
    "# Work with categorical data by using one hot encoding\n",
    "df_onehot = df_normalise.copy()\n",
    "df_onehot = pd.get_dummies(df_onehot, columns=['dwelltype', 'owndwell'])"
   ]
  },
  {
   "cell_type": "code",
   "execution_count": 8,
   "metadata": {},
   "outputs": [],
   "source": [
    "df_onehot = df_onehot.drop(columns=[\"totalvehs\", \"hhsize\",\"hhinc\",])\n"
   ]
  },
  {
   "cell_type": "code",
   "execution_count": 13,
   "metadata": {},
   "outputs": [],
   "source": [
    "df_onehot.to_csv('Data\\clean_data.csv', index=False)"
   ]
  }
 ],
 "metadata": {
  "kernelspec": {
   "display_name": "fYP",
   "language": "python",
   "name": "python3"
  },
  "language_info": {
   "codemirror_mode": {
    "name": "ipython",
    "version": 3
   },
   "file_extension": ".py",
   "mimetype": "text/x-python",
   "name": "python",
   "nbconvert_exporter": "python",
   "pygments_lexer": "ipython3",
   "version": "3.9.16"
  },
  "orig_nbformat": 4
 },
 "nbformat": 4,
 "nbformat_minor": 2
}
